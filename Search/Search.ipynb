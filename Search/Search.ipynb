{
 "cells": [
  {
   "cell_type": "markdown",
   "metadata": {},
   "source": [
    "# Search Algorithms\n",
    "\n",
    "## Uninformed Algorithms"
   ]
  },
  {
   "cell_type": "code",
   "execution_count": 1,
   "metadata": {},
   "outputs": [],
   "source": [
    "import sys\n",
    "\n",
    "class Node():\n",
    "\n",
    "    def __init__(self,state,parent,action):\n",
    "        self.state = state\n",
    "        self.parent = parent\n",
    "        self.action = action"
   ]
  },
  {
   "cell_type": "markdown",
   "metadata": {},
   "source": [
    "### Depth-First Search\n",
    "\n",
    "Use a stack frontier"
   ]
  },
  {
   "cell_type": "code",
   "execution_count": 2,
   "metadata": {},
   "outputs": [],
   "source": [
    "class StackFrontier():\n",
    "\n",
    "    def __init__(self):\n",
    "        self.frontier = []\n",
    "    \n",
    "    def add(self,node):\n",
    "        self.frontier.append(node)\n",
    "    \n",
    "    def contains_state(self,state):\n",
    "        return any(node.state == state for node in self.frontier)\n",
    "\n",
    "    def empty(self):\n",
    "        return len(self.frontier) == 0\n",
    "    \n",
    "    def remove(self):\n",
    "        if self.empty():\n",
    "            raise Exception(\"empty frontier\")\n",
    "        else :\n",
    "            node = self.frontier[-1]\n",
    "            self.frontier = self.frontier[:-1]\n",
    "            return node"
   ]
  },
  {
   "cell_type": "markdown",
   "metadata": {},
   "source": [
    "### Breadth-First Search\n",
    "\n",
    "Use a queue frontier"
   ]
  },
  {
   "cell_type": "code",
   "execution_count": 3,
   "metadata": {},
   "outputs": [],
   "source": [
    "class QueueFrontier(StackFrontier):\n",
    "\n",
    "    def remove(self):\n",
    "        if self.empty():\n",
    "            raise Exception(\"empty frontier\")\n",
    "        else :\n",
    "            node = self.frontier[0]\n",
    "            self.frontier = self.frontier[1:]\n",
    "            return node\n"
   ]
  },
  {
   "cell_type": "markdown",
   "metadata": {},
   "source": [
    "Solver\n",
    "\n",
    "The code for DFS and BFS is the same, you just need to change the to choose between StackFrontier and QueueFrontier at the initialization"
   ]
  },
  {
   "cell_type": "code",
   "execution_count": 4,
   "metadata": {},
   "outputs": [],
   "source": [
    "class Maze():\n",
    "\n",
    "    def __init__(self,filename):\n",
    "        pass\n",
    "\n",
    "    def solve(self):\n",
    "        \"\"\"Find a solution to maze if one exists\"\"\"\n",
    "\n",
    "        # Keep track of number of states explored\n",
    "        self.num_explored = 0\n",
    "\n",
    "        # Initialize frontier to just the starting position\n",
    "        start = Node(state = self.start,parent = None,action = None)\n",
    "        frontier = StackFrontier()\n",
    "        frontier.add(start)\n",
    "\n",
    "        # Initialize an empty explored set\n",
    "        self.explored = set()\n",
    "\n",
    "        # Keep looking until solution found\n",
    "        while True:\n",
    "\n",
    "            # If nothing left in the frontier, then no path\n",
    "            if frontier.empty():\n",
    "                raise Exception('No solution')\n",
    "            \n",
    "            # choose a node from the frontier\n",
    "            node = frontier.remove()\n",
    "            self.num_explored += 1\n",
    "\n",
    "            # If node is the goal, then we have the solution\n",
    "            if node.state == self.goal:\n",
    "                actions = []\n",
    "                cells = []\n",
    "\n",
    "                # Follow parent nodes to find solutions\n",
    "                while node.parent is not None:\n",
    "                    actions.append(node.action)\n",
    "                    cells.append(node.state)\n",
    "                    node = node.parent\n",
    "                actions.reverse()\n",
    "                cells.reverse()\n",
    "                self.solution = (actions,cells)\n",
    "                return\n",
    "            \n",
    "            # Mark node as explored\n",
    "            self.explored.add(node.state)\n",
    "\n",
    "            # Add neighbors to frontier\n",
    "            for action,state in self.neighbors(node.state):\n",
    "                if not frontier.contains_state(state) and state not in self.explored:\n",
    "                    child = Node(state = state,parent = node,action = action)\n",
    "                    frontier.add(child)\n",
    "            \n"
   ]
  }
 ],
 "metadata": {
  "interpreter": {
   "hash": "916dbcbb3f70747c44a77c7bcd40155683ae19c65e1c03b4aa3499c5328201f1"
  },
  "kernelspec": {
   "display_name": "Python 3.8.10 64-bit",
   "language": "python",
   "name": "python3"
  },
  "language_info": {
   "codemirror_mode": {
    "name": "ipython",
    "version": 3
   },
   "file_extension": ".py",
   "mimetype": "text/x-python",
   "name": "python",
   "nbconvert_exporter": "python",
   "pygments_lexer": "ipython3",
   "version": "3.8.10"
  },
  "orig_nbformat": 4
 },
 "nbformat": 4,
 "nbformat_minor": 2
}
